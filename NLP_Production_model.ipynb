{
 "cells": [
  {
   "cell_type": "code",
   "execution_count": 1,
   "metadata": {
    "collapsed": true
   },
   "outputs": [],
   "source": [
    "%matplotlib inline\n",
    "import matplotlib.pyplot as plt"
   ]
  },
  {
   "cell_type": "code",
   "execution_count": 2,
   "metadata": {
    "collapsed": true
   },
   "outputs": [],
   "source": [
    "from time import time\n",
    "from pprint import pprint\n",
    "import PyPDF2 \n",
    "import re\n",
    "import string\n",
    "from numpy import array\n",
    "from sklearn.metrics import accuracy_score, confusion_matrix, classification_report"
   ]
  },
  {
   "cell_type": "code",
   "execution_count": 3,
   "metadata": {
    "collapsed": true
   },
   "outputs": [],
   "source": [
    "from sklearn.naive_bayes import MultinomialNB\n",
    "from sklearn.neighbors import KNeighborsClassifier\n",
    "from sklearn.svm import SVC\n",
    "from sklearn.linear_model import LogisticRegression\n",
    "from sklearn.tree import DecisionTreeClassifier\n",
    "from sklearn.ensemble import RandomForestClassifier\n",
    "from sklearn.ensemble import AdaBoostClassifier\n",
    "from sklearn.ensemble import GradientBoostingClassifier"
   ]
  },
  {
   "cell_type": "code",
   "execution_count": 4,
   "metadata": {
    "collapsed": true
   },
   "outputs": [],
   "source": [
    "from nltk.tokenize import word_tokenize\n",
    "from nltk.corpus import stopwords"
   ]
  },
  {
   "cell_type": "code",
   "execution_count": 5,
   "metadata": {
    "collapsed": true
   },
   "outputs": [],
   "source": [
    "from nltk.stem import WordNetLemmatizer"
   ]
  },
  {
   "cell_type": "code",
   "execution_count": 6,
   "metadata": {
    "collapsed": true
   },
   "outputs": [],
   "source": [
    "import os\n",
    "from os import listdir\n",
    "from os.path import isfile, join\n",
    "from os import walk\n",
    "from pathlib import Path"
   ]
  },
  {
   "cell_type": "code",
   "execution_count": 7,
   "metadata": {
    "collapsed": true
   },
   "outputs": [],
   "source": [
    "from sklearn.pipeline import Pipeline, FeatureUnion"
   ]
  },
  {
   "cell_type": "code",
   "execution_count": 8,
   "metadata": {
    "collapsed": true
   },
   "outputs": [],
   "source": [
    "from sklearn.preprocessing import StandardScaler\n",
    "from sklearn.decomposition import TruncatedSVD\n",
    "from sklearn.ensemble import RandomForestClassifier\n",
    "#from xgboost import XGBClassifier\n",
    "from sklearn.feature_extraction.text import TfidfVectorizer"
   ]
  },
  {
   "cell_type": "code",
   "execution_count": 9,
   "metadata": {
    "collapsed": true
   },
   "outputs": [],
   "source": [
    "from nltk.stem.porter import PorterStemmer"
   ]
  },
  {
   "cell_type": "code",
   "execution_count": 65,
   "metadata": {
    "collapsed": true
   },
   "outputs": [],
   "source": [
    "from sklearn import metrics\n",
    "from sklearn.metrics import roc_curve, auc"
   ]
  },
  {
   "cell_type": "code",
   "execution_count": 11,
   "metadata": {
    "collapsed": true
   },
   "outputs": [],
   "source": [
    "from sklearn.model_selection import GridSearchCV"
   ]
  },
  {
   "cell_type": "code",
   "execution_count": 12,
   "metadata": {
    "collapsed": true
   },
   "outputs": [],
   "source": [
    "# load doc into memory \n",
    "def load_doc(file):\n",
    "# open the file as read only\n",
    "    pdfFileObj = open(file,'rb')\n",
    "    pdfReader = PyPDF2.PdfFileReader(pdfFileObj)\n",
    "    num_pages = pdfReader.numPages\n",
    "    #print(\"Number of pages in the document\")\n",
    "    #print(num_pages)\n",
    "    pageNumber=1# skip the 1st page\n",
    "    count = 1\n",
    "    text = \"\"\n",
    "    while pageNumber <= num_pages-1:\n",
    "        pageObj = pdfReader.getPage(pageNumber)\n",
    "        #count +=1\n",
    "        pageNumber+=1\n",
    "        text += pageObj.extractText()\n",
    "    # close the file\n",
    "    pdfFileObj.close()\n",
    "    return text"
   ]
  },
  {
   "cell_type": "code",
   "execution_count": 13,
   "metadata": {
    "collapsed": true
   },
   "outputs": [],
   "source": [
    "# turn a doc into clean tokens\n",
    "def clean_doc(doc):\n",
    "# split into tokens by white space\n",
    "    tokens = doc.split()\n",
    "# prepare regex for char filtering\n",
    "    re_punc = re.compile('[%s]' % re.escape(string.punctuation))\n",
    "# remove punctuation from each word\n",
    "    tokens = [re_punc.sub('', w) for w in tokens]\n",
    "# filter out tokens not in vocab\n",
    "    #tokens = [w for w in tokens if w in vocab]\n",
    "    tokens = ' '.join(tokens)\n",
    "    return tokens"
   ]
  },
  {
   "cell_type": "code",
   "execution_count": 14,
   "metadata": {
    "collapsed": true
   },
   "outputs": [],
   "source": [
    "def removeStopWords(doc):\n",
    "    stop_words = set(stopwords.words('english'))\n",
    "    tokens = doc.split()\n",
    "    tokens = [w for w in tokens if w not in stop_words]\n",
    "    sentence = ' '.join(tokens)\n",
    "    #print(\"Stop words removed sentence\")\n",
    "    #print(sentence)\n",
    "    return sentence"
   ]
  },
  {
   "cell_type": "code",
   "execution_count": 15,
   "metadata": {
    "collapsed": true
   },
   "outputs": [],
   "source": [
    "def convertTolowerCase(doc):\n",
    "    lowerCase = doc.lower()\n",
    "    #print(lowerCase)\n",
    "    return lowerCase"
   ]
  },
  {
   "cell_type": "code",
   "execution_count": 16,
   "metadata": {
    "collapsed": true
   },
   "outputs": [],
   "source": [
    "def lemmetize(doc):\n",
    "    lemmatizer = WordNetLemmatizer()\n",
    "    tokens = doc.split()\n",
    "    tokens = [lemmatizer.lemmatize(w) for w in tokens]\n",
    "    tokens = ' '.join(tokens)\n",
    "    return tokens\n",
    "    \n"
   ]
  },
  {
   "cell_type": "code",
   "execution_count": 17,
   "metadata": {
    "collapsed": true
   },
   "outputs": [],
   "source": [
    "def removeNumbers(doc):\n",
    "    nonNumericText = re.sub(r'\\d+', ' ', doc)\n",
    "    return nonNumericText"
   ]
  },
  {
   "cell_type": "code",
   "execution_count": 18,
   "metadata": {
    "collapsed": true
   },
   "outputs": [],
   "source": [
    "def removeWordsLessThan3Chars(doc):\n",
    "    tokens = doc.split()\n",
    "    tokens = [w for w in tokens if len(w) > 3]\n",
    "    tokens = ' '.join(tokens)\n",
    "    return tokens"
   ]
  },
  {
   "cell_type": "code",
   "execution_count": 19,
   "metadata": {
    "collapsed": true
   },
   "outputs": [],
   "source": [
    "# load all docs in a directory\n",
    "def process_docs(directory):\n",
    "    documents = list()\n",
    "# walk through all files in the folder\n",
    "    for filename in listdir(directory):\n",
    "# skip any reviews in the test set\n",
    "        #if is_train and filename.startswith('CC-'):\n",
    "         #   continue\n",
    "        #if not is_train and not filename.startswith('CC-'):\n",
    "         #   continue\n",
    "# create the full path of the file to open\n",
    "        path = directory + '/' + filename\n",
    "# load the doc\n",
    "        doc = load_doc(path)\n",
    "        if doc == '' or doc == \"\" :\n",
    "            continue\n",
    "    # clean doc\n",
    "        tokens = clean_doc(doc)\n",
    "    # remove stop words\n",
    "        tokens = removeStopWords(tokens)\n",
    "        # lower case\n",
    "        tokens = convertTolowerCase(tokens)\n",
    "        # remove numbers\n",
    "        tokens = removeNumbers(tokens)\n",
    "        # final removal of punctuations\n",
    "        #tokens = removePunctuationsForFinalText(doc)\n",
    "        # remove special characters\n",
    "        tokens=re.sub('[^A-Za-z0-9]+', ' ', tokens)\n",
    "        # lemmetize\n",
    "        tokens = lemmetize(tokens)\n",
    "        # remove words less than 3 chars\n",
    "        tokens = removeWordsLessThan3Chars(tokens)\n",
    "        documents.append(tokens)\n",
    "    return documents"
   ]
  },
  {
   "cell_type": "code",
   "execution_count": 20,
   "metadata": {
    "collapsed": true
   },
   "outputs": [],
   "source": [
    "# load and clean a dataset\n",
    "def load_clean_dataset():\n",
    "# load documents\n",
    "    #pos = process_docs('Labeled_DataSet/Complianant')\n",
    "    #neg = process_docs('Labeled_DataSet/Respondent')\n",
    "    pos = process_docs('Labeled_DataSet/Complianant')\n",
    "    neg = process_docs('Labeled_DataSet/Respondent')\n",
    "    docs = neg + pos\n",
    "    print(\"size of documents\")\n",
    "    print(len(docs))\n",
    "# prepare labels\n",
    "    labels = array([0 for _ in range(len(neg))] + [1 for _ in range(len(pos))])\n",
    "    print(\"Label Values are :::\")\n",
    "    print(labels)\n",
    "    return docs, labels"
   ]
  },
  {
   "cell_type": "code",
   "execution_count": 21,
   "metadata": {},
   "outputs": [
    {
     "name": "stdout",
     "output_type": "stream",
     "text": [
      "size of documents\n",
      "177\n",
      "Label Values are :::\n",
      "[0 0 0 0 0 0 0 0 0 0 0 0 0 0 0 0 0 0 0 0 0 0 0 0 0 0 0 0 0 0 0 0 0 0 0 0 0\n",
      " 0 0 0 0 0 0 0 0 0 0 0 0 0 0 1 1 1 1 1 1 1 1 1 1 1 1 1 1 1 1 1 1 1 1 1 1 1\n",
      " 1 1 1 1 1 1 1 1 1 1 1 1 1 1 1 1 1 1 1 1 1 1 1 1 1 1 1 1 1 1 1 1 1 1 1 1 1\n",
      " 1 1 1 1 1 1 1 1 1 1 1 1 1 1 1 1 1 1 1 1 1 1 1 1 1 1 1 1 1 1 1 1 1 1 1 1 1\n",
      " 1 1 1 1 1 1 1 1 1 1 1 1 1 1 1 1 1 1 1 1 1 1 1 1 1 1 1 1 1]\n"
     ]
    }
   ],
   "source": [
    "X,Y = load_clean_dataset()"
   ]
  },
  {
   "cell_type": "code",
   "execution_count": 22,
   "metadata": {
    "collapsed": true
   },
   "outputs": [],
   "source": [
    "import pandas as pd\n",
    "df = pd.DataFrame(\n",
    "    {'doc': X,\n",
    "     'target': Y,\n",
    "    })"
   ]
  },
  {
   "cell_type": "code",
   "execution_count": 23,
   "metadata": {},
   "outputs": [
    {
     "data": {
      "text/plain": [
       "'deepak kumar tyagiso late devender kumar tyagiro floor ndrohini delhi complainant versus national insurance ltdthrough chief managerdivisionxiv plot block floor office code ndrdoffice name delhi division pitam pura delhi opposite party gupta presidentcoram bariq ahmed member usha khanna member date institution date decision gupta presidentorder complainant filed present complaint section ofthe consumer protection therebyalleging thatthe representativeagentemployeeof approachedcc page complainant induced medical claim policy gaveassurance promise complainant indemnify lossesdamages expenditure incurred complainant diagnosing treatment ofthe disease complainant taking policy offer authorizedagentservant employee ready willing kind ofmedical checkup respect preexisting disease authorizedagentservantemployee refused complainant alleged thatthe complainant taken policy person namely neena kumari anauthorized agent paid premium afteracknowledging receiving payment complainant issued policy period policycover wife daughter also covered complainant alleged thecomplainant sudden suffered fever diagnosis andmedical investigation dengue deducted body complainantand complainant remain intensive medical care treatment hemrajjain hospital pushpanjali enclave pitam pura delhi wasdischarged hospital medical supervision ofdr gagan complainantcc page pocket spent approx complainant afterdischarge hospital provided original document medical treatmentoriginal bill medical expenditure incurred complainant treatment opon complainant also provided certified copy registrationcertificate hemraj jain hospital complainant admitted thecomplainant alleged original medical treatment document history oftreatment bill expenditure incurred complainant already powerpossession control complainant alleged since till date repudiation claim never sent lettercorrespondence information complainant asking complainant provide anydocument information vide letter dated dishonestly fraudulentlyand maliciously without justified lawful ground repudiated claim thecomplainant false fabulous groundsmoreover dengue disease epidemic oneand sprouted unexpectedly point time cannot called apreexisting disease dengue patient given timely treatment maycause loss valuable human life point time action refusingthe legal claim amount deficiency service part page allegation complainant filed complaint praying directiontoop total towards medical expense incurred alongwithinterest till realization amount alsoclaimed compensation towards mental agony harassment caused tothe complainant also sought towards cost litigation contesting complaint filed written statement writtenstatement submitted deficiency service part thecomplaint liable dismissed submitted complainant purchasedthe parivar mediclaim family policy vide policy paid premium policy witness subject term condition company liabilitywould arise treatment disease injury contractedsuffered inspected thepolicy period total expense incurred illness limited suminsured family submitted company liability respect allclaims admitted period insurance shall exceed insured mentionedin schedule complainant without full fill term condition policyand hence cause action filing present complaint furthercc page submitted complainant admitted suffered feverand diagnosis medical investigation dengue deducted thebody complainant admitted hemraj jain hospital pushpanjali enclave pitampura delhi medical treatment complainant suffered fever denguewas deducted submitted complainant fulfill term condition policy submitted disease stated inclause contracted insured person first thecommencement date policy condition shall however apply casehospitalization accidental injury insured person coveredunder scheme similar health insurance scheme indian insurancecompanies continuous period preceding month without break furthersubmitted india health care service rejected claim thecomplainant ground insured contracted disease within inception first policy hence claim payable term condition policy exclusion submitted claim notmaintainable liable dismissed complainant filed replication denied submission andfurthersubmitted taken misleading pleacc page order prove hiscase complainant filed affidavit evidence alsofiled written argument complainant also placed record copy insurance policyno period midnightcopy letter dated issued complainant copy report dated issued plus ultrasound copy registration certificate dated issued directorate health service gnct delhi copy billcashno dated cash memo dated ofrs cash memo dated cash memo dated cash memo dated cash memo dated cash memo dated cash memo dated cash memono dated cash memo dated ofrs issued hemraj jain hospital pharmacy copy receipt dated issued pitam pura blood bank copy discharge certificatedated issued hemrajjain hospital copy laboratory report dated report dated report dated page report dated report dated report dated report dated issued carelabs hand manju rani filed affidavit evidencewhich basis written statement also filed written argument this forum considered case complainant well asop light ofevidence document placed record party case complainant hasremained consistent nothing record disbelieve case thecomplainant document evidence party show complainant washospitalized hemraj jain hospital period fortreatment dengue fever this fact disputed dengue fever anepidemic disease cannot termed stretch imagination dengue fever apreexisting diseasethus taken false bogus defenceand thesecircumstances forum opinion justifiedin denying claim thecomplainant thus held guilty deficiency service thus holding guilty direct page purchase medicine undergoing testsexamination alongwith interest pawef till date orderii complainant amount compensation harassmentand mental agony suffered includes litigation cost amount shall paid complainantwithin date ofreceiving copy order failing shall liable interest entireawarded amount perannum date receiving copy order till date payment fails comply order within date receivingcopy order complainant approach forum consumerprotection copy order sent party free cost regulation theconsumer protection regulation thereafter file consigned record roomannounced july bariq ahmed usha khanna gupta member member president page honble mkgupta president honble usha khanna member honble bariq ahmad member'"
      ]
     },
     "execution_count": 23,
     "metadata": {},
     "output_type": "execute_result"
    }
   ],
   "source": [
    "X[142]"
   ]
  },
  {
   "cell_type": "markdown",
   "metadata": {},
   "source": [
    "Data is now prepared removing all punctuations , stop words , leemtization etc"
   ]
  },
  {
   "cell_type": "code",
   "execution_count": 24,
   "metadata": {},
   "outputs": [
    {
     "data": {
      "image/png": "[encoded data removed]",
      "text/plain": [
       "<Figure size 720x288 with 1 Axes>"
      ]
     },
     "metadata": {},
     "output_type": "display_data"
    }
   ],
   "source": [
    "my_tags = ['Respondent','Complainant']\n",
    "plt.figure(figsize=(10,4))\n",
    "df.target.value_counts().plot(kind='bar');"
   ]
  },
  {
   "cell_type": "markdown",
   "metadata": {},
   "source": [
    "### Train Test Split "
   ]
  },
  {
   "cell_type": "code",
   "execution_count": 25,
   "metadata": {
    "collapsed": true
   },
   "outputs": [],
   "source": [
    "from sklearn import model_selection\n",
    "test_size = 0.30 # taking 70:30 training and test set\n",
    "seed = 7  # Random numbmer seeding for reapeatability of the code\n",
    "X_train, X_test, y_train, y_test = model_selection.train_test_split(X, Y, test_size=test_size, random_state=seed)"
   ]
  },
  {
   "cell_type": "code",
   "execution_count": 26,
   "metadata": {},
   "outputs": [
    {
     "name": "stdout",
     "output_type": "stream",
     "text": [
      "123\n",
      "123\n",
      "54\n"
     ]
    }
   ],
   "source": [
    "print(len(X_train))\n",
    "print(len(y_train))\n",
    "print(len(y_test))"
   ]
  },
  {
   "cell_type": "code",
   "execution_count": 27,
   "metadata": {
    "collapsed": true
   },
   "outputs": [],
   "source": [
    "import numpy as np"
   ]
  },
  {
   "cell_type": "code",
   "execution_count": 28,
   "metadata": {},
   "outputs": [
    {
     "name": "stdout",
     "output_type": "stream",
     "text": [
      "[39 84]\n"
     ]
    }
   ],
   "source": [
    "print(np.bincount(y_train)) # 36 respondent and 76 complainant"
   ]
  },
  {
   "cell_type": "code",
   "execution_count": 29,
   "metadata": {},
   "outputs": [
    {
     "name": "stdout",
     "output_type": "stream",
     "text": [
      "[12 42]\n"
     ]
    }
   ],
   "source": [
    "print(np.bincount(y_test)) # 11 respondent and 38 complainant"
   ]
  },
  {
   "cell_type": "code",
   "execution_count": 30,
   "metadata": {
    "collapsed": true
   },
   "outputs": [],
   "source": [
    "from sklearn.feature_extraction.text import TfidfTransformer\n",
    "from sklearn.feature_extraction.text import CountVectorizer"
   ]
  },
  {
   "cell_type": "markdown",
   "metadata": {},
   "source": [
    "### Model Building"
   ]
  },
  {
   "cell_type": "markdown",
   "metadata": {},
   "source": [
    "### Naive Bayes Classifier for Multinomial Models"
   ]
  },
  {
   "cell_type": "code",
   "execution_count": 39,
   "metadata": {},
   "outputs": [
    {
     "name": "stdout",
     "output_type": "stream",
     "text": [
      "Performing grid search...\n",
      "pipeline: ['vect', 'tfidf', 'clf']\n",
      "parameters:\n",
      "{'vect__max_df': (0.5, 0.75, 1.0), 'vect__max_features': (None, 5000, 10000, 50000), 'vect__ngram_range': ((1, 1), (1, 2)), 'tfidf__use_idf': (True, False), 'tfidf__norm': ('l1', 'l2'), 'clf__alpha': [0.001, 0.01, 0.1, 1.0, 2.0]}\n",
      "Fitting 5 folds for each of 480 candidates, totalling 2400 fits\n"
     ]
    },
    {
     "name": "stderr",
     "output_type": "stream",
     "text": [
      "[Parallel(n_jobs=-1)]: Using backend LokyBackend with 8 concurrent workers.\n",
      "[Parallel(n_jobs=-1)]: Done  34 tasks      | elapsed:    6.3s\n",
      "[Parallel(n_jobs=-1)]: Done 184 tasks      | elapsed:   18.1s\n",
      "[Parallel(n_jobs=-1)]: Done 434 tasks      | elapsed:   37.8s\n",
      "[Parallel(n_jobs=-1)]: Done 784 tasks      | elapsed:  1.1min\n",
      "[Parallel(n_jobs=-1)]: Done 1234 tasks      | elapsed:  1.7min\n",
      "[Parallel(n_jobs=-1)]: Done 1784 tasks      | elapsed:  2.4min\n",
      "[Parallel(n_jobs=-1)]: Done 2400 out of 2400 | elapsed:  3.2min finished\n",
      "DeprecationWarning: The default of the `iid` parameter will change from True to False in version 0.22 and will be removed in 0.24. This will change numeric results when test-set sizes are unequal. [_search.py:841]\n"
     ]
    },
    {
     "name": "stdout",
     "output_type": "stream",
     "text": [
      "done in 193.804s\n",
      "\n",
      "##################################################\n",
      "Best score: 0.772\n",
      "Best parameters set:\n",
      "\tclf__alpha: 0.01\n",
      "\ttfidf__norm: 'l2'\n",
      "\ttfidf__use_idf: False\n",
      "\tvect__max_df: 0.75\n",
      "\tvect__max_features: 5000\n",
      "\tvect__ngram_range: (1, 2)\n",
      "##################################################\n",
      "accuracy 0.8333333333333334\n",
      "              precision    recall  f1-score   support\n",
      "\n",
      "  Respondent       0.67      0.50      0.57        12\n",
      " Complainant       0.87      0.93      0.90        42\n",
      "\n",
      "   micro avg       0.83      0.83      0.83        54\n",
      "   macro avg       0.77      0.71      0.73        54\n",
      "weighted avg       0.82      0.83      0.82        54\n",
      "\n"
     ]
    }
   ],
   "source": [
    "from sklearn.naive_bayes import MultinomialNB\n",
    "from sklearn.pipeline import Pipeline\n",
    "from sklearn.feature_extraction.text import TfidfTransformer\n",
    "from sklearn.feature_extraction.text import CountVectorizer\n",
    "\n",
    "pipeline = Pipeline([('vect', CountVectorizer()),\n",
    "               ('tfidf', TfidfTransformer()),\n",
    "               ('clf', MultinomialNB()),\n",
    "              ])\n",
    "\n",
    "parameters = {\n",
    "    'vect__max_df': (0.5, 0.75, 1.0),\n",
    "    'vect__max_features': (None, 5000, 10000, 50000),\n",
    "    'vect__ngram_range': ((1, 1), (1, 2)),  # unigrams or bigrams\n",
    "    'tfidf__use_idf': (True, False),\n",
    "    'tfidf__norm': ('l1', 'l2'),\n",
    "    'clf__alpha': [0.001, 0.01, 0.1 , 1.0, 2.0]\n",
    "}\n",
    "\n",
    "\n",
    "grid_search = GridSearchCV(pipeline, parameters, cv=5, n_jobs=-1, verbose=1)\n",
    "print(\"Performing grid search...\")\n",
    "print(\"pipeline:\", [name for name, _ in pipeline.steps])\n",
    "print(\"parameters:\")\n",
    "print(parameters)\n",
    "t0 = time()\n",
    "grid_search.fit(X_train, y_train)\n",
    "print(\"done in %0.3fs\" % (time() - t0))\n",
    "print()\n",
    "\n",
    "print('##################################################')\n",
    "print(\"Best score: %0.3f\" % grid_search.best_score_)\n",
    "print(\"Best parameters set:\")\n",
    "best_parameters = grid_search.best_estimator_.get_params()\n",
    "for param_name in sorted(parameters.keys()):\n",
    "    print(\"\\t%s: %r\" % (param_name, best_parameters[param_name]))\n",
    "\n",
    "print('##################################################')\n",
    "y_pred = grid_search.best_estimator_.predict(X_test)\n",
    "\n",
    "print('accuracy %s' % accuracy_score(y_pred, y_test))\n",
    "print(classification_report(y_test, y_pred,target_names=my_tags))"
   ]
  },
  {
   "cell_type": "markdown",
   "metadata": {},
   "source": [
    "### KNN"
   ]
  },
  {
   "cell_type": "code",
   "execution_count": 40,
   "metadata": {},
   "outputs": [
    {
     "name": "stdout",
     "output_type": "stream",
     "text": [
      "Performing grid search...\n",
      "pipeline: ['vect', 'tfidf', 'clf']\n",
      "parameters:\n",
      "{'clf__n_neighbors': [5, 6, 7, 8, 9, 11, 13, 15, 17, 19, 21, 23],\n",
      " 'tfidf__norm': ('l1', 'l2'),\n",
      " 'tfidf__use_idf': (True, False),\n",
      " 'vect__max_df': (0.5, 0.75, 1.0),\n",
      " 'vect__max_features': (None, 5000, 10000, 50000),\n",
      " 'vect__ngram_range': ((1, 1), (1, 2))}\n",
      "Fitting 5 folds for each of 1152 candidates, totalling 5760 fits\n"
     ]
    },
    {
     "name": "stderr",
     "output_type": "stream",
     "text": [
      "[Parallel(n_jobs=-1)]: Using backend LokyBackend with 8 concurrent workers.\n",
      "[Parallel(n_jobs=-1)]: Done  34 tasks      | elapsed:    2.8s\n",
      "[Parallel(n_jobs=-1)]: Done 184 tasks      | elapsed:   14.9s\n",
      "[Parallel(n_jobs=-1)]: Done 434 tasks      | elapsed:   34.9s\n",
      "[Parallel(n_jobs=-1)]: Done 784 tasks      | elapsed:  1.0min\n",
      "[Parallel(n_jobs=-1)]: Done 1234 tasks      | elapsed:  1.6min\n",
      "[Parallel(n_jobs=-1)]: Done 1784 tasks      | elapsed:  2.4min\n",
      "[Parallel(n_jobs=-1)]: Done 2434 tasks      | elapsed:  3.2min\n",
      "[Parallel(n_jobs=-1)]: Done 3184 tasks      | elapsed:  4.3min\n",
      "[Parallel(n_jobs=-1)]: Done 4034 tasks      | elapsed:  5.4min\n",
      "[Parallel(n_jobs=-1)]: Done 4984 tasks      | elapsed:  6.7min\n",
      "[Parallel(n_jobs=-1)]: Done 5760 out of 5760 | elapsed:  7.7min finished\n",
      "DeprecationWarning: The default of the `iid` parameter will change from True to False in version 0.22 and will be removed in 0.24. This will change numeric results when test-set sizes are unequal. [_search.py:841]\n"
     ]
    },
    {
     "name": "stdout",
     "output_type": "stream",
     "text": [
      "done in 462.504s\n",
      "\n",
      "##################################################\n",
      "Best score: 0.764\n",
      "Best parameters set:\n",
      "\tclf__n_neighbors: 6\n",
      "\ttfidf__norm: 'l2'\n",
      "\ttfidf__use_idf: True\n",
      "\tvect__max_df: 0.5\n",
      "\tvect__max_features: None\n",
      "\tvect__ngram_range: (1, 2)\n",
      "##################################################\n",
      "accuracy 0.7777777777777778\n",
      "              precision    recall  f1-score   support\n",
      "\n",
      "  Respondent       0.50      0.25      0.33        12\n",
      " Complainant       0.81      0.93      0.87        42\n",
      "\n",
      "   micro avg       0.78      0.78      0.78        54\n",
      "   macro avg       0.66      0.59      0.60        54\n",
      "weighted avg       0.74      0.78      0.75        54\n",
      "\n"
     ]
    }
   ],
   "source": [
    "from sklearn.neighbors import KNeighborsClassifier\n",
    "#from sklearn.svm import SVC\n",
    "\n",
    "pipeline = Pipeline([('vect', CountVectorizer()),\n",
    "                ('tfidf', TfidfTransformer()),\n",
    "                ('clf', KNeighborsClassifier())\n",
    "               ])\n",
    "\n",
    "parameters = {\n",
    "    'vect__max_df': (0.5, 0.75, 1.0),\n",
    "    'vect__max_features': (None, 5000, 10000, 50000),\n",
    "    'vect__ngram_range': ((1, 1), (1, 2)),  # unigrams or bigrams\n",
    "    'tfidf__use_idf': (True, False),\n",
    "    'tfidf__norm': ('l1', 'l2'),\n",
    "    #'clf__C': [1, 10, 100, 1000],\n",
    "    #'clf__gamma': [0.001, 0.0001],\n",
    "    'clf__n_neighbors':[5,6,7,8,9,11, 13, 15, 17, 19, 21, 23]\n",
    "}\n",
    "\n",
    "\n",
    "grid_search = GridSearchCV(pipeline, parameters, cv=5, n_jobs=-1, verbose=1)\n",
    "print(\"Performing grid search...\")\n",
    "print(\"pipeline:\", [name for name, _ in pipeline.steps])\n",
    "print(\"parameters:\")\n",
    "pprint(parameters)\n",
    "t0 = time()\n",
    "grid_search.fit(X_train, y_train)\n",
    "print(\"done in %0.3fs\" % (time() - t0))\n",
    "print()\n",
    "\n",
    "print('##################################################')\n",
    "print(\"Best score: %0.3f\" % grid_search.best_score_)\n",
    "print(\"Best parameters set:\")\n",
    "best_parameters = grid_search.best_estimator_.get_params()\n",
    "for param_name in sorted(parameters.keys()):\n",
    "    print(\"\\t%s: %r\" % (param_name, best_parameters[param_name]))\n",
    "\n",
    "print('##################################################')\n",
    "y_pred = grid_search.best_estimator_.predict(X_test)\n",
    "\n",
    "print('accuracy %s' % accuracy_score(y_pred, y_test))\n",
    "print(classification_report(y_test, y_pred,target_names=my_tags))"
   ]
  },
  {
   "cell_type": "markdown",
   "metadata": {},
   "source": [
    "### Linear Support Vector Machine"
   ]
  },
  {
   "cell_type": "code",
   "execution_count": 32,
   "metadata": {},
   "outputs": [
    {
     "name": "stdout",
     "output_type": "stream",
     "text": [
      "Performing grid search...\n",
      "pipeline: ['tfidf', 'clf']\n",
      "parameters:\n",
      "{'clf__C': [1, 10, 100, 1000],\n",
      " 'clf__gamma': [0.001, 0.0001],\n",
      " 'clf__kernel': ['rbf'],\n",
      " 'tfidf__max_df': (0.5, 0.75, 1.0),\n",
      " 'tfidf__max_features': (None, 5000, 10000, 50000),\n",
      " 'tfidf__ngram_range': ((1, 1), (1, 2)),\n",
      " 'tfidf__norm': ('l1', 'l2'),\n",
      " 'tfidf__use_idf': (True, False)}\n",
      "Fitting 5 folds for each of 768 candidates, totalling 3840 fits\n"
     ]
    },
    {
     "name": "stderr",
     "output_type": "stream",
     "text": [
      "[Parallel(n_jobs=-1)]: Using backend LokyBackend with 8 concurrent workers.\n",
      "[Parallel(n_jobs=-1)]: Done  34 tasks      | elapsed:    5.9s\n",
      "[Parallel(n_jobs=-1)]: Done 184 tasks      | elapsed:   21.7s\n",
      "[Parallel(n_jobs=-1)]: Done 434 tasks      | elapsed:   51.4s\n",
      "[Parallel(n_jobs=-1)]: Done 784 tasks      | elapsed:  1.6min\n",
      "[Parallel(n_jobs=-1)]: Done 1234 tasks      | elapsed:  2.6min\n",
      "[Parallel(n_jobs=-1)]: Done 1784 tasks      | elapsed:  3.9min\n",
      "[Parallel(n_jobs=-1)]: Done 2434 tasks      | elapsed:  5.2min\n",
      "[Parallel(n_jobs=-1)]: Done 3184 tasks      | elapsed:  6.8min\n",
      "[Parallel(n_jobs=-1)]: Done 3840 out of 3840 | elapsed:  8.3min finished\n",
      "DeprecationWarning: The default of the `iid` parameter will change from True to False in version 0.22 and will be removed in 0.24. This will change numeric results when test-set sizes are unequal. [_search.py:841]\n"
     ]
    },
    {
     "name": "stdout",
     "output_type": "stream",
     "text": [
      "done in 495.827s\n",
      "\n",
      "##################################################\n",
      "Best score: 0.768\n",
      "##################################################\n",
      "accuracy 0.7142857142857143\n",
      "              precision    recall  f1-score   support\n",
      "\n",
      "  Respondent       0.33      0.27      0.30        11\n",
      " Complainant       0.80      0.84      0.82        38\n",
      "\n",
      "   micro avg       0.71      0.71      0.71        49\n",
      "   macro avg       0.57      0.56      0.56        49\n",
      "weighted avg       0.70      0.71      0.70        49\n",
      "\n"
     ]
    }
   ],
   "source": [
    "from sklearn.feature_extraction.text import TfidfVectorizer\n",
    "from sklearn.linear_model import SGDClassifier\n",
    "from sklearn.svm import SVC\n",
    "\n",
    "pipelineSVC = Pipeline([#('vect', CountVectorizer()),\n",
    "                ('tfidf', TfidfVectorizer(max_df=1.0,max_features=5000,ngram_range=(1, 2),norm= 'l2',use_idf=True)),\n",
    "                ('clf', SVC(C=1000,gamma=0.001,kernel='linear',))#SGDClassifier(loss='hinge', penalty='l2',alpha=1e-3, random_state=42, max_iter=5, tol=None)),#SVC(kernel='linear')),#\n",
    "               ])\n",
    "\n",
    "parameters_svc = {\n",
    "    'tfidf__max_df': (0.5, 0.75, 1.0),\n",
    "    'tfidf__max_features': (None, 5000, 10000, 50000),\n",
    "    'tfidf__ngram_range': ((1, 1), (1, 2)),  # unigrams or bigrams\n",
    "    'tfidf__use_idf': (True, False),\n",
    "    'tfidf__norm': ('l1', 'l2'),\n",
    "    'clf__C': [1, 10, 100, 1000],\n",
    "    'clf__gamma': [0.001, 0.0001],\n",
    "    'clf__kernel': ['rbf']\n",
    "}\n",
    "\n",
    "\n",
    "grid_search_svc = GridSearchCV(pipelineSVC, parameters_svc, cv=5, n_jobs=-1, verbose=1)\n",
    "print(\"Performing grid search...\")\n",
    "print(\"pipeline:\", [name for name, _ in pipelineSVC.steps])\n",
    "print(\"parameters:\")\n",
    "pprint(parameters_svc)\n",
    "t0 = time()\n",
    "grid_search_svc.fit(X_train, y_train)\n",
    "print(\"done in %0.3fs\" % (time() - t0))\n",
    "print()\n",
    "\n",
    "print('##################################################')\n",
    "print(\"Best score: %0.3f\" % grid_search_svc.best_score_)\n",
    "#print(\"Best parameters set:\")\n",
    "#best_parameters = grid_search_svc.best_estimator_.get_params()\n",
    "#for param_name in sorted(parameters.keys()):\n",
    "#    print(\"\\t%s: %r\" % (param_name, best_parameters[param_name]))\n",
    "\n",
    "print('##################################################')\n",
    "y_pred_svc = grid_search_svc.best_estimator_.predict(X_test)\n",
    "\n",
    "print('accuracy %s' % accuracy_score(y_pred_svc, y_test))\n",
    "print(classification_report(y_test, y_pred_svc,target_names=my_tags))"
   ]
  },
  {
   "cell_type": "markdown",
   "metadata": {},
   "source": [
    "### Logistic Regression"
   ]
  },
  {
   "cell_type": "code",
   "execution_count": 41,
   "metadata": {},
   "outputs": [
    {
     "name": "stdout",
     "output_type": "stream",
     "text": [
      "Performing grid search...\n",
      "pipeline: ['vect', 'tfidf', 'clf']\n",
      "parameters:\n",
      "{'tfidf__norm': ('l1', 'l2'),\n",
      " 'tfidf__use_idf': (True, False),\n",
      " 'vect__max_df': (0.5, 0.75, 1.0),\n",
      " 'vect__max_features': (None, 5000, 10000, 50000),\n",
      " 'vect__ngram_range': ((1, 1), (1, 2))}\n",
      "Fitting 5 folds for each of 96 candidates, totalling 480 fits\n"
     ]
    },
    {
     "name": "stderr",
     "output_type": "stream",
     "text": [
      "[Parallel(n_jobs=-1)]: Using backend LokyBackend with 8 concurrent workers.\n",
      "[Parallel(n_jobs=-1)]: Done  34 tasks      | elapsed:    5.4s\n",
      "[Parallel(n_jobs=-1)]: Done 184 tasks      | elapsed:   29.3s\n",
      "[Parallel(n_jobs=-1)]: Done 434 tasks      | elapsed:  1.2min\n",
      "[Parallel(n_jobs=-1)]: Done 480 out of 480 | elapsed:  1.3min finished\n",
      "DeprecationWarning: The default of the `iid` parameter will change from True to False in version 0.22 and will be removed in 0.24. This will change numeric results when test-set sizes are unequal. [_search.py:841]\n",
      "FutureWarning: Default solver will be changed to 'lbfgs' in 0.22. Specify a solver to silence this warning. [logistic.py:433]\n"
     ]
    },
    {
     "name": "stdout",
     "output_type": "stream",
     "text": [
      "done in 77.392s\n",
      "\n",
      "##################################################\n",
      "##################################################\n",
      "accuracy 0.7777777777777778\n",
      "              precision    recall  f1-score   support\n",
      "\n",
      "  Respondent       0.50      0.25      0.33        12\n",
      " Complainant       0.81      0.93      0.87        42\n",
      "\n",
      "   micro avg       0.78      0.78      0.78        54\n",
      "   macro avg       0.66      0.59      0.60        54\n",
      "weighted avg       0.74      0.78      0.75        54\n",
      "\n"
     ]
    }
   ],
   "source": [
    "from sklearn.linear_model import LogisticRegression\n",
    "\n",
    "pipelineLogistic = Pipeline([('vect', CountVectorizer()),\n",
    "                ('tfidf', TfidfTransformer()),\n",
    "                ('clf', LogisticRegression(n_jobs=1, C=1e5)),\n",
    "               ])\n",
    "\n",
    "parameters_logistic = {\n",
    "    'vect__max_df': (0.5, 0.75, 1.0),\n",
    "    'vect__max_features': (None, 5000, 10000, 50000),\n",
    "    'vect__ngram_range': ((1, 1), (1, 2)),  # unigrams or bigrams\n",
    "    'tfidf__use_idf': (True, False),\n",
    "    'tfidf__norm': ('l1', 'l2')\n",
    "}\n",
    "\n",
    "\n",
    "grid_search_logistic = GridSearchCV(pipelineLogistic, parameters_logistic, cv=5, n_jobs=-1, verbose=1)\n",
    "print(\"Performing grid search...\")\n",
    "print(\"pipeline:\", [name for name, _ in pipeline.steps])\n",
    "print(\"parameters:\")\n",
    "pprint(parameters_logistic)\n",
    "t0 = time()\n",
    "grid_search_logistic.fit(X_train, y_train)\n",
    "print(\"done in %0.3fs\" % (time() - t0))\n",
    "print()\n",
    "\n",
    "print('##################################################')\n",
    "#print(\"Best score: %0.3f\" % grid_search_logistic.best_score_)\n",
    "#print(\"Best parameters set:\")\n",
    "#best_parameters = grid_search_logistic.best_estimator_.get_params()\n",
    "#for param_name in sorted(parameters.keys()):\n",
    "#    print(\"\\t%s: %r\" % (param_name, best_parameters[param_name]))\n",
    "\n",
    "print('##################################################')\n",
    "y_pred_logistic = grid_search.best_estimator_.predict(X_test)\n",
    "\n",
    "print('accuracy %s' % accuracy_score(y_pred_logistic, y_test))\n",
    "print(classification_report(y_test, y_pred_logistic,target_names=my_tags))\n",
    "        "
   ]
  },
  {
   "cell_type": "markdown",
   "metadata": {},
   "source": [
    "### Decision Tree"
   ]
  },
  {
   "cell_type": "code",
   "execution_count": 31,
   "metadata": {},
   "outputs": [
    {
     "name": "stdout",
     "output_type": "stream",
     "text": [
      "Performing grid search...\n",
      "pipeline: ['vect', 'tfidf', 'clf']\n",
      "parameters:\n",
      "{'clf__criterion': ['gini', 'entropy'],\n",
      " 'clf__max_depth': [1, 2, 3, 4, 5],\n",
      " 'clf__max_features': [1, 2, 3, 4],\n",
      " 'tfidf__norm': ('l1', 'l2'),\n",
      " 'tfidf__use_idf': (True, False),\n",
      " 'vect__max_df': (0.5, 0.75, 1.0),\n",
      " 'vect__max_features': (None, 5000, 10000, 50000),\n",
      " 'vect__ngram_range': ((1, 1), (1, 2))}\n",
      "Fitting 5 folds for each of 3840 candidates, totalling 19200 fits\n"
     ]
    },
    {
     "name": "stderr",
     "output_type": "stream",
     "text": [
      "[Parallel(n_jobs=-1)]: Using backend LokyBackend with 8 concurrent workers.\n",
      "[Parallel(n_jobs=-1)]: Done  34 tasks      | elapsed:    6.4s\n",
      "[Parallel(n_jobs=-1)]: Done 184 tasks      | elapsed:   18.4s\n",
      "[Parallel(n_jobs=-1)]: Done 434 tasks      | elapsed:   38.1s\n",
      "[Parallel(n_jobs=-1)]: Done 784 tasks      | elapsed:  1.1min\n",
      "[Parallel(n_jobs=-1)]: Done 1234 tasks      | elapsed:  1.7min\n",
      "[Parallel(n_jobs=-1)]: Done 1784 tasks      | elapsed:  2.4min\n",
      "[Parallel(n_jobs=-1)]: Done 2434 tasks      | elapsed:  3.3min\n",
      "[Parallel(n_jobs=-1)]: Done 3184 tasks      | elapsed:  4.2min\n",
      "[Parallel(n_jobs=-1)]: Done 4034 tasks      | elapsed:  5.4min\n",
      "[Parallel(n_jobs=-1)]: Done 4984 tasks      | elapsed:  6.6min\n",
      "[Parallel(n_jobs=-1)]: Done 6034 tasks      | elapsed:  8.0min\n",
      "[Parallel(n_jobs=-1)]: Done 7184 tasks      | elapsed:  9.5min\n",
      "[Parallel(n_jobs=-1)]: Done 8434 tasks      | elapsed: 11.2min\n",
      "[Parallel(n_jobs=-1)]: Done 9784 tasks      | elapsed: 12.9min\n",
      "[Parallel(n_jobs=-1)]: Done 11234 tasks      | elapsed: 14.8min\n",
      "[Parallel(n_jobs=-1)]: Done 12784 tasks      | elapsed: 16.9min\n",
      "[Parallel(n_jobs=-1)]: Done 14434 tasks      | elapsed: 19.0min\n",
      "[Parallel(n_jobs=-1)]: Done 16184 tasks      | elapsed: 21.3min\n",
      "[Parallel(n_jobs=-1)]: Done 18034 tasks      | elapsed: 23.8min\n",
      "[Parallel(n_jobs=-1)]: Done 19200 out of 19200 | elapsed: 25.3min finished\n",
      "DeprecationWarning: The default of the `iid` parameter will change from True to False in version 0.22 and will be removed in 0.24. This will change numeric results when test-set sizes are unequal. [_search.py:841]\n"
     ]
    },
    {
     "name": "stdout",
     "output_type": "stream",
     "text": [
      "done in 1518.286s\n",
      "\n",
      "##################################################\n",
      "Best score: 0.748\n",
      "Best parameters set:\n",
      "\tclf__criterion: 'gini'\n",
      "\tclf__max_depth: 4\n",
      "\tclf__max_features: 3\n",
      "\ttfidf__norm: 'l2'\n",
      "\ttfidf__use_idf: False\n",
      "\tvect__max_df: 1.0\n",
      "\tvect__max_features: 10000\n",
      "\tvect__ngram_range: (1, 1)\n",
      "##################################################\n",
      "accuracy 0.7407407407407407\n",
      "              precision    recall  f1-score   support\n",
      "\n",
      "  Respondent       0.00      0.00      0.00        12\n",
      " Complainant       0.77      0.95      0.85        42\n",
      "\n",
      "   micro avg       0.74      0.74      0.74        54\n",
      "   macro avg       0.38      0.48      0.43        54\n",
      "weighted avg       0.60      0.74      0.66        54\n",
      "\n"
     ]
    }
   ],
   "source": [
    "from sklearn.tree import DecisionTreeClassifier\n",
    "\n",
    "pipeline = Pipeline([('vect', CountVectorizer()),\n",
    "                ('tfidf', TfidfTransformer()),\n",
    "                ('clf', DecisionTreeClassifier()),\n",
    "               ])\n",
    "\n",
    "parameters = {\n",
    "    'vect__max_df': (0.5, 0.75, 1.0),\n",
    "    'vect__max_features': (None, 5000, 10000, 50000),\n",
    "    'vect__ngram_range': ((1, 1), (1, 2)),  # unigrams or bigrams\n",
    "    'tfidf__use_idf': (True, False),\n",
    "    'tfidf__norm': ('l1', 'l2'),\n",
    "    'clf__max_depth': [1, 2, 3, 4, 5],\n",
    "    'clf__max_features': [1, 2, 3, 4],\n",
    "    'clf__criterion':['gini','entropy']\n",
    "}\n",
    "\n",
    "\n",
    "grid_search = GridSearchCV(pipeline, parameters, cv=5, n_jobs=-1, verbose=1)\n",
    "print(\"Performing grid search...\")\n",
    "print(\"pipeline:\", [name for name, _ in pipeline.steps])\n",
    "print(\"parameters:\")\n",
    "pprint(parameters)\n",
    "t0 = time()\n",
    "grid_search.fit(X_train, y_train)\n",
    "print(\"done in %0.3fs\" % (time() - t0))\n",
    "print()\n",
    "\n",
    "print('##################################################')\n",
    "print(\"Best score: %0.3f\" % grid_search.best_score_)\n",
    "print(\"Best parameters set:\")\n",
    "best_parameters = grid_search.best_estimator_.get_params()\n",
    "for param_name in sorted(parameters.keys()):\n",
    "    print(\"\\t%s: %r\" % (param_name, best_parameters[param_name]))\n",
    "\n",
    "print('##################################################')\n",
    "y_pred = grid_search.best_estimator_.predict(X_test)\n",
    "\n",
    "print('accuracy %s' % accuracy_score(y_pred, y_test))\n",
    "print(classification_report(y_test, y_pred,target_names=my_tags))\n",
    "        "
   ]
  },
  {
   "cell_type": "markdown",
   "metadata": {},
   "source": [
    "### RandomForestClassifier"
   ]
  },
  {
   "cell_type": "code",
   "execution_count": null,
   "metadata": {
    "collapsed": true
   },
   "outputs": [],
   "source": [
    "from sklearn.ensemble import RandomForestClassifier\n",
    "\n",
    "pipeline = Pipeline([('vect', CountVectorizer()),\n",
    "                ('tfidf', TfidfTransformer()),\n",
    "                ('clf', RandomForestClassifier()),\n",
    "               ])\n",
    "\n",
    "parameters = {\n",
    "    'vect__max_df': (0.5, 0.75, 1.0),\n",
    "    'vect__max_features': (None, 5000, 10000, 50000),\n",
    "    'vect__ngram_range': ((1, 1), (1, 2)),  # unigrams or bigrams\n",
    "    'tfidf__use_idf': (True, False),\n",
    "    'tfidf__norm': ('l1', 'l2'),\n",
    "    'clf__n_estimators':[10,15,20,25,30],\n",
    "    'clf__max_depth': [5, 15, 25, 50],\n",
    "    'clf__min_samples_leaf':[1,2,3],\n",
    "    'clf__min_samples_split':[3,4,5,6,7],\n",
    "    'clf__max_features':[5, 10, 20]\n",
    "}\n",
    "\n",
    "\n",
    "grid_search = GridSearchCV(pipeline, parameters, cv=5, n_jobs=-1, verbose=1)\n",
    "print(\"Performing grid search...\")\n",
    "print(\"pipeline:\", [name for name, _ in pipeline.steps])\n",
    "print(\"parameters:\")\n",
    "pprint(parameters)\n",
    "t0 = time()\n",
    "grid_search.fit(X_train, y_train)\n",
    "print(\"done in %0.3fs\" % (time() - t0))\n",
    "print()\n",
    "\n",
    "print('##################################################')\n",
    "print(\"Best score: %0.3f\" % grid_search.best_score_)\n",
    "print(\"Best parameters set:\")\n",
    "best_parameters = grid_search.best_estimator_.get_params()\n",
    "for param_name in sorted(parameters.keys()):\n",
    "    print(\"\\t%s: %r\" % (param_name, best_parameters[param_name]))\n",
    "\n",
    "print('##################################################')\n",
    "y_pred = grid_search.best_estimator_.predict(X_test)\n",
    "\n",
    "print('accuracy %s' % accuracy_score(y_pred, y_test))\n",
    "print(classification_report(y_test, y_pred,target_names=my_tags))\n",
    "        "
   ]
  },
  {
   "cell_type": "markdown",
   "metadata": {},
   "source": [
    "### AdaBoostClassifier"
   ]
  },
  {
   "cell_type": "code",
   "execution_count": 32,
   "metadata": {},
   "outputs": [
    {
     "name": "stdout",
     "output_type": "stream",
     "text": [
      "Performing grid search...\n",
      "pipeline: ['vect', 'tfidf', 'clf']\n",
      "parameters:\n",
      "{'clf__learning_rate': [0.01, 0.1, 0.9],\n",
      " 'clf__n_estimators': [10, 20, 25, 30],\n",
      " 'vect__max_df': (0.5, 0.75, 1.0),\n",
      " 'vect__max_features': (5000, 10000),\n",
      " 'vect__ngram_range': ((1, 1), (1, 2))}\n",
      "Fitting 5 folds for each of 144 candidates, totalling 720 fits\n"
     ]
    },
    {
     "name": "stderr",
     "output_type": "stream",
     "text": [
      "[Parallel(n_jobs=-1)]: Using backend LokyBackend with 8 concurrent workers.\n",
      "[Parallel(n_jobs=-1)]: Done  34 tasks      | elapsed:    2.7s\n",
      "[Parallel(n_jobs=-1)]: Done 184 tasks      | elapsed:   17.6s\n",
      "[Parallel(n_jobs=-1)]: Done 434 tasks      | elapsed:   44.6s\n",
      "[Parallel(n_jobs=-1)]: Done 720 out of 720 | elapsed:  1.3min finished\n",
      "DeprecationWarning: The default of the `iid` parameter will change from True to False in version 0.22 and will be removed in 0.24. This will change numeric results when test-set sizes are unequal. [_search.py:841]\n"
     ]
    },
    {
     "name": "stdout",
     "output_type": "stream",
     "text": [
      "done in 77.078s\n",
      "\n",
      "##################################################\n",
      "Best score: 0.902\n",
      "Best parameters set:\n",
      "\tclf__learning_rate: 0.9\n",
      "\tclf__n_estimators: 25\n",
      "\tvect__max_df: 0.75\n",
      "\tvect__ngram_range: (1, 1)\n",
      "##################################################\n",
      "accuracy 0.7755102040816326\n",
      "              precision    recall  f1-score   support\n",
      "\n",
      "  Respondent       0.50      0.73      0.59        11\n",
      " Complainant       0.91      0.79      0.85        38\n",
      "\n",
      "   micro avg       0.78      0.78      0.78        49\n",
      "   macro avg       0.70      0.76      0.72        49\n",
      "weighted avg       0.82      0.78      0.79        49\n",
      "\n"
     ]
    }
   ],
   "source": [
    "from sklearn.ensemble import AdaBoostClassifier\n",
    "\n",
    "pipeline_ada = Pipeline([('vect', CountVectorizer()),\n",
    "                ('tfidf', TfidfTransformer()),\n",
    "                ('clf', AdaBoostClassifier()),\n",
    "               ])\n",
    "\n",
    "parameters_ada = {\n",
    "    'vect__max_df': (0.5, 0.75, 1.0),\n",
    "    'vect__max_features': (5000, 10000),\n",
    "    'vect__ngram_range': ((1, 1), (1, 2)),  # unigrams or bigrams\n",
    "    #'tfidf__use_idf': (True, False),\n",
    "    #'tfidf__norm': ('l1', 'l2'),\n",
    "    'clf__n_estimators':[10,20,25,30],\n",
    "    'clf__learning_rate' : [0.01, 0.1, 0.9]\n",
    "}\n",
    "\n",
    "\n",
    "grid_search_ada = GridSearchCV(pipeline_ada, parameters_ada, cv=5, n_jobs=-1, verbose=1)\n",
    "print(\"Performing grid search...\")\n",
    "print(\"pipeline:\", [name for name, _ in pipeline_ada.steps])\n",
    "print(\"parameters:\")\n",
    "pprint(parameters_ada)\n",
    "t0 = time()\n",
    "grid_search_ada.fit(X_train, y_train)\n",
    "print(\"done in %0.3fs\" % (time() - t0))\n",
    "print()\n",
    "\n",
    "print('##################################################')\n",
    "print(\"Best score: %0.3f\" % grid_search_ada.best_score_)\n",
    "print(\"Best parameters set:\")\n",
    "best_parameters = grid_search_ada.best_estimator_.get_params()\n",
    "for param_name in sorted(parameters.keys()):\n",
    "    print(\"\\t%s: %r\" % (param_name, best_parameters[param_name]))\n",
    "\n",
    "print('##################################################')\n",
    "y_pred_ada = grid_search_ada.best_estimator_.predict(X_test)\n",
    "\n",
    "print('accuracy %s' % accuracy_score(y_pred_ada, y_test))\n",
    "print(classification_report(y_test, y_pred_ada,target_names=my_tags))\n",
    "        "
   ]
  },
  {
   "cell_type": "markdown",
   "metadata": {},
   "source": [
    "### GradientBoostingClassifier"
   ]
  },
  {
   "cell_type": "code",
   "execution_count": 33,
   "metadata": {},
   "outputs": [
    {
     "name": "stdout",
     "output_type": "stream",
     "text": [
      "Performing grid search...\n",
      "pipeline: ['vect', 'tfidf', 'clf']\n",
      "parameters:\n",
      "{'clf__learning_rate': [0.01, 0.1, 0.9],\n",
      " 'clf__n_estimators': [10, 20, 30],\n",
      " 'vect__max_df': (0.5, 0.75, 1.0),\n",
      " 'vect__ngram_range': ((1, 1), (1, 2))}\n",
      "Fitting 5 folds for each of 54 candidates, totalling 270 fits\n"
     ]
    },
    {
     "name": "stderr",
     "output_type": "stream",
     "text": [
      "[Parallel(n_jobs=-1)]: Using backend LokyBackend with 8 concurrent workers.\n",
      "[Parallel(n_jobs=-1)]: Done  34 tasks      | elapsed:    4.6s\n",
      "[Parallel(n_jobs=-1)]: Done 184 tasks      | elapsed:   38.7s\n",
      "[Parallel(n_jobs=-1)]: Done 270 out of 270 | elapsed:   55.3s finished\n",
      "DeprecationWarning: The default of the `iid` parameter will change from True to False in version 0.22 and will be removed in 0.24. This will change numeric results when test-set sizes are unequal. [_search.py:841]\n"
     ]
    },
    {
     "name": "stdout",
     "output_type": "stream",
     "text": [
      "done in 55.610s\n",
      "\n",
      "##################################################\n",
      "Best score: 0.866\n",
      "Best parameters set:\n",
      "\tclf__learning_rate: 0.1\n",
      "\tclf__n_estimators: 20\n",
      "\tvect__max_df: 0.5\n",
      "\tvect__ngram_range: (1, 1)\n",
      "##################################################\n",
      "accuracy 0.8163265306122449\n",
      "              precision    recall  f1-score   support\n",
      "\n",
      "  Respondent       0.60      0.55      0.57        11\n",
      " Complainant       0.87      0.89      0.88        38\n",
      "\n",
      "   micro avg       0.82      0.82      0.82        49\n",
      "   macro avg       0.74      0.72      0.73        49\n",
      "weighted avg       0.81      0.82      0.81        49\n",
      "\n"
     ]
    }
   ],
   "source": [
    "from sklearn.ensemble import GradientBoostingClassifier\n",
    "\n",
    "pipeline = Pipeline([('vect', CountVectorizer()),\n",
    "                ('tfidf', TfidfTransformer()),\n",
    "                ('clf', GradientBoostingClassifier())\n",
    "               ])\n",
    "\n",
    "parameters = {\n",
    "    'vect__max_df': (0.5, 0.75, 1.0),\n",
    "    #'vect__max_features': (None, 5000, 10000, 50000),\n",
    "    'vect__ngram_range': ((1, 1), (1, 2)),  # unigrams or bigrams\n",
    "    #'tfidf__use_idf': (True, False),\n",
    "    #'tfidf__norm': ('l1', 'l2'),\n",
    "    'clf__n_estimators':[10, 20, 30],\n",
    "    #'clf__min_samples_leaf':[1,3],\n",
    "    #'clf__max_depth': [3, 5,25],\n",
    "    #'clf__min_samples_split':[2,5,7],\n",
    "    'clf__learning_rate' : [0.01, 0.1,0.9],\n",
    "    #'clf__subsample':[0.6,0.7, 1.0], \n",
    "    #'clf__max_features':[3, 5, 10, 20]\n",
    "}\n",
    "\n",
    "\n",
    "grid_search = GridSearchCV(pipeline, parameters, cv=5, n_jobs=-1, verbose=1)\n",
    "print(\"Performing grid search...\")\n",
    "print(\"pipeline:\", [name for name, _ in pipeline.steps])\n",
    "print(\"parameters:\")\n",
    "pprint(parameters)\n",
    "t0 = time()\n",
    "grid_search.fit(X_train, y_train)\n",
    "print(\"done in %0.3fs\" % (time() - t0))\n",
    "print()\n",
    "\n",
    "print('##################################################')\n",
    "print(\"Best score: %0.3f\" % grid_search.best_score_)\n",
    "print(\"Best parameters set:\")\n",
    "best_parameters = grid_search.best_estimator_.get_params()\n",
    "for param_name in sorted(parameters.keys()):\n",
    "    print(\"\\t%s: %r\" % (param_name, best_parameters[param_name]))\n",
    "\n",
    "print('##################################################')\n",
    "y_pred = grid_search.best_estimator_.predict(X_test)\n",
    "\n",
    "print('accuracy %s' % accuracy_score(y_pred, y_test))\n",
    "print(classification_report(y_test, y_pred,target_names=my_tags))\n",
    "        "
   ]
  },
  {
   "cell_type": "markdown",
   "metadata": {},
   "source": [
    "# Final Model - AdaBooster"
   ]
  },
  {
   "cell_type": "code",
   "execution_count": 33,
   "metadata": {},
   "outputs": [
    {
     "name": "stdout",
     "output_type": "stream",
     "text": [
      "Automatically created module for IPython interactive environment\n",
      "\n"
     ]
    },
    {
     "data": {
      "text/plain": [
       "Pipeline(memory=None,\n",
       "     steps=[('vect', CountVectorizer(analyzer='word', binary=False, decode_error='strict',\n",
       "        dtype=<class 'numpy.int64'>, encoding='utf-8', input='content',\n",
       "        lowercase=True, max_df=1.0, max_features=None, min_df=1,\n",
       "        ngram_range=(1, 1), preprocessor=None, stop_words=None,\n",
       "        strip...m='SAMME.R', base_estimator=None,\n",
       "          learning_rate=1.0, n_estimators=50, random_state=None))])"
      ]
     },
     "execution_count": 33,
     "metadata": {},
     "output_type": "execute_result"
    }
   ],
   "source": [
    "from pprint import pprint\n",
    "from time import time\n",
    "import logging\n",
    "\n",
    "#from sklearn.datasets import fetch_20newsgroups\n",
    "from sklearn.feature_extraction.text import CountVectorizer\n",
    "from sklearn.feature_extraction.text import TfidfTransformer\n",
    "from sklearn.linear_model import SGDClassifier\n",
    "from sklearn.model_selection import GridSearchCV\n",
    "from sklearn.pipeline import Pipeline\n",
    "from sklearn.ensemble import AdaBoostClassifier\n",
    "\n",
    "print(__doc__)\n",
    "\n",
    "\n",
    "# Display progress logs on stdout\n",
    "logging.basicConfig(level=logging.INFO,\n",
    "                    format='%(asctime)s %(levelname)s %(message)s')\n",
    "\n",
    "\n",
    "# #############################################################################\n",
    "# Load some categories from the training set\n",
    "\n",
    "print()\n",
    "\n",
    "# #############################################################################\n",
    "# Define a pipeline combining a text feature extractor with a simple\n",
    "# classifier\n",
    "pipeline_final_ada = Pipeline([\n",
    "    ('vect', CountVectorizer()),\n",
    "    ('tfidf', TfidfTransformer()),\n",
    "    ('clf', AdaBoostClassifier())\n",
    "    #('clf', AdaBoostClassifier(pipelineDTFinal.base_estimator))\n",
    "])\n",
    "\n",
    "pipeline_final_ada.fit(X_train, y_train)\n",
    "    \n",
    "    "
   ]
  },
  {
   "cell_type": "code",
   "execution_count": 34,
   "metadata": {},
   "outputs": [
    {
     "name": "stdout",
     "output_type": "stream",
     "text": [
      "##################################################\n",
      "accuracy 0.8888888888888888\n",
      "              precision    recall  f1-score   support\n",
      "\n",
      "  Respondent       0.75      0.75      0.75        12\n",
      " Complainant       0.93      0.93      0.93        42\n",
      "\n",
      "   micro avg       0.89      0.89      0.89        54\n",
      "   macro avg       0.84      0.84      0.84        54\n",
      "weighted avg       0.89      0.89      0.89        54\n",
      "\n"
     ]
    }
   ],
   "source": [
    "print('##################################################')\n",
    "y_pred_ada = pipeline_final_ada.predict(X_test)\n",
    "\n",
    "print('accuracy %s' % accuracy_score(y_pred_ada, y_test))\n",
    "print(classification_report(y_test, y_pred_ada,target_names=my_tags))\n",
    "\n"
   ]
  },
  {
   "cell_type": "code",
   "execution_count": 38,
   "metadata": {},
   "outputs": [
    {
     "name": "stdout",
     "output_type": "stream",
     "text": [
      "[[ 9  3]\n",
      " [ 3 39]]\n"
     ]
    }
   ],
   "source": [
    "ADA_CM=metrics.confusion_matrix(y_test, y_pred_ada)\n",
    "print(ADA_CM)"
   ]
  },
  {
   "cell_type": "code",
   "execution_count": 71,
   "metadata": {},
   "outputs": [
    {
     "name": "stdout",
     "output_type": "stream",
     "text": [
      "0.9285714285714286\n"
     ]
    }
   ],
   "source": [
    "#Sensitivity: True positive rate\n",
    "sensitivity=ADA_CM[1,1]/(ADA_CM[1,0]+ADA_CM[1,1])\n",
    "print(sensitivity)"
   ]
  },
  {
   "cell_type": "code",
   "execution_count": 72,
   "metadata": {},
   "outputs": [
    {
     "name": "stdout",
     "output_type": "stream",
     "text": [
      "0.75\n"
     ]
    }
   ],
   "source": [
    "#Specificity: True negative rate\n",
    "specificity=ADA_CM[0,0]/(ADA_CM[0,0]+ADA_CM[0,1])\n",
    "print(specificity)"
   ]
  },
  {
   "cell_type": "code",
   "execution_count": 70,
   "metadata": {},
   "outputs": [
    {
     "name": "stdout",
     "output_type": "stream",
     "text": [
      "0.8392857142857143\n"
     ]
    },
    {
     "data": {
      "image/png": "[encoded data removed]",
      "text/plain": [
       "<Figure size 432x288 with 1 Axes>"
      ]
     },
     "metadata": {},
     "output_type": "display_data"
    }
   ],
   "source": [
    "fpr,tpr, _ = roc_curve(y_test, y_pred_ada)\n",
    "roc_auc = auc(fpr, tpr)\n",
    "\n",
    "print(roc_auc)\n",
    "plt.figure()\n",
    "plt.plot(fpr, tpr)\n",
    "plt.xlim([0.0, 1.0])\n",
    "plt.ylim([0.0, 1.0])\n",
    "plt.xlabel('False Positive Rate')\n",
    "plt.ylabel('True Positive Rate')\n",
    "plt.title('Receiver operating characteristic')\n",
    "plt.show()"
   ]
  },
  {
   "cell_type": "markdown",
   "metadata": {
    "collapsed": true
   },
   "source": [
    "# Final Model - Support Vector Machine"
   ]
  },
  {
   "cell_type": "code",
   "execution_count": 39,
   "metadata": {},
   "outputs": [
    {
     "name": "stdout",
     "output_type": "stream",
     "text": [
      "##################################################\n",
      "accuracy 0.8518518518518519\n",
      "              precision    recall  f1-score   support\n",
      "\n",
      "  Respondent       0.70      0.58      0.64        12\n",
      " Complainant       0.89      0.93      0.91        42\n",
      "\n",
      "   micro avg       0.85      0.85      0.85        54\n",
      "   macro avg       0.79      0.76      0.77        54\n",
      "weighted avg       0.84      0.85      0.85        54\n",
      "\n"
     ]
    }
   ],
   "source": [
    "pipelineSVCFinal = Pipeline([('vect', CountVectorizer(max_df=1.0,max_features=5000,ngram_range=(1,2))),\n",
    "                ('tfidf', TfidfTransformer(norm='l2',use_idf=True)),\n",
    "                ('clf', SVC(C=1000,gamma=0.001,kernel='rbf'))\n",
    "               ])\n",
    "\n",
    "\n",
    "pipelineSVCFinal.fit(X_train, y_train)\n",
    "\n",
    "\n",
    "print('##################################################')\n",
    "y_pred_svc = pipelineSVCFinal.predict(X_test)\n",
    "\n",
    "print('accuracy %s' % accuracy_score(y_pred_svc, y_test))\n",
    "print(classification_report(y_test, y_pred_svc,target_names=my_tags))"
   ]
  },
  {
   "cell_type": "code",
   "execution_count": 41,
   "metadata": {},
   "outputs": [
    {
     "name": "stdout",
     "output_type": "stream",
     "text": [
      "[[ 7  5]\n",
      " [ 3 39]]\n"
     ]
    }
   ],
   "source": [
    "SVC_CM=metrics.confusion_matrix(y_test, y_pred_svc)\n",
    "print(SVC_CM)"
   ]
  },
  {
   "cell_type": "markdown",
   "metadata": {},
   "source": [
    "# Final Model - Logistic"
   ]
  },
  {
   "cell_type": "code",
   "execution_count": 43,
   "metadata": {},
   "outputs": [
    {
     "name": "stdout",
     "output_type": "stream",
     "text": [
      "##################################################\n",
      "accuracy 0.8518518518518519\n",
      "              precision    recall  f1-score   support\n",
      "\n",
      "  Respondent       0.75      0.50      0.60        12\n",
      " Complainant       0.87      0.95      0.91        42\n",
      "\n",
      "   micro avg       0.85      0.85      0.85        54\n",
      "   macro avg       0.81      0.73      0.75        54\n",
      "weighted avg       0.84      0.85      0.84        54\n",
      "\n"
     ]
    },
    {
     "name": "stderr",
     "output_type": "stream",
     "text": [
      "FutureWarning: Default solver will be changed to 'lbfgs' in 0.22. Specify a solver to silence this warning. [logistic.py:433]\n"
     ]
    }
   ],
   "source": [
    "from sklearn.linear_model import LogisticRegression\n",
    "pipelineLRFinal = Pipeline([('vect', CountVectorizer(max_df=1.0,ngram_range=(1,2))),\n",
    "                ('tfidf', TfidfTransformer()),\n",
    "                ('clf', LogisticRegression(n_jobs=1, C=1e5)),\n",
    "               ])\n",
    "\n",
    "\n",
    "\n",
    "pipelineLRFinal.fit(X_train, y_train)\n",
    "\n",
    "\n",
    "print('##################################################')\n",
    "y_pred_LR = pipelineLRFinal.predict(X_test)\n",
    "\n",
    "print('accuracy %s' % accuracy_score(y_pred_LR, y_test))\n",
    "print(classification_report(y_test, y_pred_LR,target_names=my_tags))"
   ]
  },
  {
   "cell_type": "code",
   "execution_count": 44,
   "metadata": {},
   "outputs": [
    {
     "name": "stdout",
     "output_type": "stream",
     "text": [
      "[[ 6  6]\n",
      " [ 2 40]]\n"
     ]
    }
   ],
   "source": [
    "LR_CM=metrics.confusion_matrix(y_test, y_pred_LR)\n",
    "print(LR_CM)"
   ]
  },
  {
   "cell_type": "markdown",
   "metadata": {},
   "source": [
    "# Final Model - KNN"
   ]
  },
  {
   "cell_type": "code",
   "execution_count": 45,
   "metadata": {},
   "outputs": [
    {
     "name": "stdout",
     "output_type": "stream",
     "text": [
      "##################################################\n",
      "accuracy 0.7777777777777778\n",
      "              precision    recall  f1-score   support\n",
      "\n",
      "  Respondent       0.50      0.25      0.33        12\n",
      " Complainant       0.81      0.93      0.87        42\n",
      "\n",
      "   micro avg       0.78      0.78      0.78        54\n",
      "   macro avg       0.66      0.59      0.60        54\n",
      "weighted avg       0.74      0.78      0.75        54\n",
      "\n"
     ]
    }
   ],
   "source": [
    "from sklearn.neighbors import KNeighborsClassifier\n",
    "#from sklearn.svm import SVC\n",
    "\n",
    "pipelineKNNFinal = Pipeline([('vect', CountVectorizer(max_df=0.75,max_features=10000,ngram_range=(1,1))),\n",
    "                ('tfidf', TfidfTransformer(norm='l2',use_idf=True)),\n",
    "                ('clf', KNeighborsClassifier(n_neighbors=6))])\n",
    "\n",
    "\n",
    "pipelineKNNFinal.fit(X_train, y_train)\n",
    "\n",
    "\n",
    "print('##################################################')\n",
    "y_pred_KNN = pipelineKNNFinal.predict(X_test)\n",
    "\n",
    "print('accuracy %s' % accuracy_score(y_pred_KNN, y_test))\n",
    "print(classification_report(y_test, y_pred_KNN,target_names=my_tags))"
   ]
  },
  {
   "cell_type": "code",
   "execution_count": 46,
   "metadata": {},
   "outputs": [
    {
     "name": "stdout",
     "output_type": "stream",
     "text": [
      "[[ 3  9]\n",
      " [ 3 39]]\n"
     ]
    }
   ],
   "source": [
    "KNN_CM=metrics.confusion_matrix(y_test, y_pred_KNN)\n",
    "print(KNN_CM)"
   ]
  },
  {
   "cell_type": "markdown",
   "metadata": {},
   "source": [
    "# Final Model - Naive Bayes"
   ]
  },
  {
   "cell_type": "code",
   "execution_count": 47,
   "metadata": {},
   "outputs": [
    {
     "name": "stdout",
     "output_type": "stream",
     "text": [
      "##################################################\n",
      "accuracy 0.8518518518518519\n",
      "              precision    recall  f1-score   support\n",
      "\n",
      "  Respondent       0.75      0.50      0.60        12\n",
      " Complainant       0.87      0.95      0.91        42\n",
      "\n",
      "   micro avg       0.85      0.85      0.85        54\n",
      "   macro avg       0.81      0.73      0.75        54\n",
      "weighted avg       0.84      0.85      0.84        54\n",
      "\n"
     ]
    }
   ],
   "source": [
    "from sklearn.naive_bayes import MultinomialNB\n",
    "from sklearn.pipeline import Pipeline\n",
    "from sklearn.feature_extraction.text import TfidfTransformer\n",
    "from sklearn.feature_extraction.text import CountVectorizer\n",
    "\n",
    "pipelineNBFinal = Pipeline([('vect', CountVectorizer(max_df=0.5,max_features=5000,ngram_range=(1,2))),\n",
    "               ('tfidf', TfidfTransformer(norm='l2',use_idf=True)),\n",
    "               ('clf', MultinomialNB(alpha=0.01)),\n",
    "              ])\n",
    "\n",
    "pipelineNBFinal.fit(X_train, y_train)\n",
    "\n",
    "\n",
    "print('##################################################')\n",
    "y_pred_NB_Final = pipelineNBFinal.predict(X_test)\n",
    "\n",
    "print('accuracy %s' % accuracy_score(y_pred_NB_Final, y_test))\n",
    "print(classification_report(y_test, y_pred_NB_Final,target_names=my_tags))\n"
   ]
  },
  {
   "cell_type": "code",
   "execution_count": 48,
   "metadata": {},
   "outputs": [
    {
     "name": "stdout",
     "output_type": "stream",
     "text": [
      "[[ 6  6]\n",
      " [ 2 40]]\n"
     ]
    }
   ],
   "source": [
    "NB_CM=metrics.confusion_matrix(y_test, y_pred_NB_Final)\n",
    "print(NB_CM)"
   ]
  },
  {
   "cell_type": "markdown",
   "metadata": {},
   "source": [
    "# Final Model - Gradient "
   ]
  },
  {
   "cell_type": "code",
   "execution_count": 49,
   "metadata": {},
   "outputs": [
    {
     "name": "stdout",
     "output_type": "stream",
     "text": [
      "##################################################\n",
      "accuracy 0.8518518518518519\n",
      "              precision    recall  f1-score   support\n",
      "\n",
      "  Respondent       0.75      0.50      0.60        12\n",
      " Complainant       0.87      0.95      0.91        42\n",
      "\n",
      "   micro avg       0.85      0.85      0.85        54\n",
      "   macro avg       0.81      0.73      0.75        54\n",
      "weighted avg       0.84      0.85      0.84        54\n",
      "\n"
     ]
    }
   ],
   "source": [
    "from sklearn.ensemble import GradientBoostingClassifier\n",
    "\n",
    "pipeline_gradient_final = Pipeline([('vect', CountVectorizer(max_df=0.5,ngram_range=(1,1))),\n",
    "                ('tfidf', TfidfTransformer()),\n",
    "                ('clf', GradientBoostingClassifier(learning_rate=0.1,n_estimators=20))\n",
    "               ])\n",
    "\n",
    "pipeline_gradient_final.fit(X_train, y_train)\n",
    "\n",
    "\n",
    "print('##################################################')\n",
    "y_pred_Gradient_Final = pipeline_gradient_final.predict(X_test)\n",
    "\n",
    "print('accuracy %s' % accuracy_score(y_pred_Gradient_Final, y_test))\n",
    "print(classification_report(y_test, y_pred_Gradient_Final,target_names=my_tags))\n",
    "\n"
   ]
  },
  {
   "cell_type": "code",
   "execution_count": 50,
   "metadata": {},
   "outputs": [
    {
     "name": "stdout",
     "output_type": "stream",
     "text": [
      "[[ 6  6]\n",
      " [ 2 40]]\n"
     ]
    }
   ],
   "source": [
    "Gradient_CM=metrics.confusion_matrix(y_test, y_pred_Gradient_Final)\n",
    "print(Gradient_CM)"
   ]
  },
  {
   "cell_type": "code",
   "execution_count": 68,
   "metadata": {},
   "outputs": [
    {
     "name": "stdout",
     "output_type": "stream",
     "text": [
      "0.9523809523809523\n"
     ]
    }
   ],
   "source": [
    "#Sensitivity: True positive rate\n",
    "sensitivity=Gradient_CM[1,1]/(Gradient_CM[1,0]+Gradient_CM[1,1])\n",
    "print(sensitivity)"
   ]
  },
  {
   "cell_type": "code",
   "execution_count": 69,
   "metadata": {},
   "outputs": [
    {
     "name": "stdout",
     "output_type": "stream",
     "text": [
      "0.5\n"
     ]
    }
   ],
   "source": [
    "#Specificity: True negative rate\n",
    "specificity=Gradient_CM[0,0]/(Gradient_CM[0,0]+Gradient_CM[0,1])\n",
    "print(specificity)"
   ]
  },
  {
   "cell_type": "code",
   "execution_count": 66,
   "metadata": {},
   "outputs": [
    {
     "name": "stdout",
     "output_type": "stream",
     "text": [
      "0.7261904761904762\n"
     ]
    },
    {
     "data": {
      "image/png": "[encoded data removed]",
      "text/plain": [
       "<Figure size 432x288 with 1 Axes>"
      ]
     },
     "metadata": {},
     "output_type": "display_data"
    }
   ],
   "source": [
    "fpr,tpr, _ = roc_curve(y_test, y_pred_Gradient_Final)\n",
    "roc_auc = auc(fpr, tpr)\n",
    "\n",
    "print(roc_auc)\n",
    "plt.figure()\n",
    "plt.plot(fpr, tpr)\n",
    "plt.xlim([0.0, 1.0])\n",
    "plt.ylim([0.0, 1.0])\n",
    "plt.xlabel('False Positive Rate')\n",
    "plt.ylabel('True Positive Rate')\n",
    "plt.title('Receiver operating characteristic')\n",
    "plt.show()"
   ]
  },
  {
   "cell_type": "markdown",
   "metadata": {},
   "source": [
    "# Final Model - Decision Tree"
   ]
  },
  {
   "cell_type": "code",
   "execution_count": 51,
   "metadata": {},
   "outputs": [
    {
     "name": "stdout",
     "output_type": "stream",
     "text": [
      "##################################################\n",
      "accuracy 0.7777777777777778\n",
      "              precision    recall  f1-score   support\n",
      "\n",
      "  Respondent       0.00      0.00      0.00        12\n",
      " Complainant       0.78      1.00      0.88        42\n",
      "\n",
      "   micro avg       0.78      0.78      0.78        54\n",
      "   macro avg       0.39      0.50      0.44        54\n",
      "weighted avg       0.60      0.78      0.68        54\n",
      "\n"
     ]
    },
    {
     "name": "stderr",
     "output_type": "stream",
     "text": [
      "UndefinedMetricWarning: Precision and F-score are ill-defined and being set to 0.0 in labels with no predicted samples. [classification.py:1143]\n"
     ]
    }
   ],
   "source": [
    "from sklearn.tree import DecisionTreeClassifier\n",
    "\n",
    "pipelineDTFinal = Pipeline([('vect', CountVectorizer(max_df=0.5,ngram_range=(1,1))),\n",
    "                ('tfidf', TfidfTransformer()),\n",
    "                ('clf', DecisionTreeClassifier(criterion='entropy',max_depth=5,max_features=1)),\n",
    "               ])\n",
    "\n",
    "pipelineDTFinal.fit(X_train, y_train)\n",
    "\n",
    "\n",
    "print('##################################################')\n",
    "y_pred_DT_Final = pipelineDTFinal.predict(X_test)\n",
    "\n",
    "print('accuracy %s' % accuracy_score(y_pred_DT_Final, y_test))\n",
    "print(classification_report(y_test, y_pred_DT_Final,target_names=my_tags))"
   ]
  },
  {
   "cell_type": "code",
   "execution_count": 52,
   "metadata": {},
   "outputs": [
    {
     "name": "stdout",
     "output_type": "stream",
     "text": [
      "[[ 0 12]\n",
      " [ 0 42]]\n"
     ]
    }
   ],
   "source": [
    "DT_CM=metrics.confusion_matrix(y_test, y_pred_DT_Final)\n",
    "print(DT_CM)"
   ]
  },
  {
   "cell_type": "markdown",
   "metadata": {},
   "source": [
    "# Final Model: Random Forest"
   ]
  },
  {
   "cell_type": "code",
   "execution_count": 56,
   "metadata": {},
   "outputs": [
    {
     "name": "stdout",
     "output_type": "stream",
     "text": [
      "##################################################\n",
      "accuracy 0.7777777777777778\n",
      "              precision    recall  f1-score   support\n",
      "\n",
      "  Respondent       0.00      0.00      0.00        12\n",
      " Complainant       0.78      1.00      0.88        42\n",
      "\n",
      "   micro avg       0.78      0.78      0.78        54\n",
      "   macro avg       0.39      0.50      0.44        54\n",
      "weighted avg       0.60      0.78      0.68        54\n",
      "\n"
     ]
    },
    {
     "name": "stderr",
     "output_type": "stream",
     "text": [
      "UndefinedMetricWarning: Precision and F-score are ill-defined and being set to 0.0 in labels with no predicted samples. [classification.py:1143]\n"
     ]
    }
   ],
   "source": [
    "pipelineRFFinal = Pipeline([('vect', CountVectorizer(max_df=1,ngram_range=(1,1))),\n",
    "                ('tfidf', TfidfTransformer(norm='l2',use_idf=True)),\n",
    "                ('clf', RandomForestClassifier(min_samples_leaf=2,max_depth=25,max_features=20,min_samples_split=6,n_estimators=10)),\n",
    "               ])\n",
    "\n",
    "pipelineRFFinal.fit(X_train, y_train)\n",
    "\n",
    "\n",
    "print('##################################################')\n",
    "y_pred_RF_Final = pipelineRFFinal.predict(X_test)\n",
    "\n",
    "print('accuracy %s' % accuracy_score(y_pred_RF_Final, y_test))\n",
    "print(classification_report(y_test, y_pred_RF_Final,target_names=my_tags))"
   ]
  },
  {
   "cell_type": "code",
   "execution_count": 57,
   "metadata": {},
   "outputs": [
    {
     "name": "stdout",
     "output_type": "stream",
     "text": [
      "[[ 0 12]\n",
      " [ 0 42]]\n"
     ]
    }
   ],
   "source": [
    "RF_CM=metrics.confusion_matrix(y_test, y_pred_RF_Final)\n",
    "print(RF_CM)"
   ]
  },
  {
   "cell_type": "markdown",
   "metadata": {},
   "source": [
    "# Comparison of Models with TF-IDF vectorizer"
   ]
  },
  {
   "cell_type": "code",
   "execution_count": 62,
   "metadata": {},
   "outputs": [
    {
     "name": "stderr",
     "output_type": "stream",
     "text": [
      "FutureWarning: Default solver will be changed to 'lbfgs' in 0.22. Specify a solver to silence this warning. [logistic.py:433]\n"
     ]
    },
    {
     "name": "stdout",
     "output_type": "stream",
     "text": [
      "LR: 0.721795 (0.088554)\n",
      "Ada_Boost: 0.885256 (0.092426)\n",
      "SVC: 0.754487 (0.100992)\n",
      "KNN: 0.730769 (0.092539)\n",
      "NB: 0.730769 (0.112828)\n",
      "GB: 0.851923 (0.138659)\n",
      "DT: 0.681410 (0.090566)\n",
      "RF: 0.681410 (0.104786)\n"
     ]
    },
    {
     "data": {
      "image/png": "[encoded data removed]",
      "text/plain": [
       "<Figure size 432x288 with 1 Axes>"
      ]
     },
     "metadata": {},
     "output_type": "display_data"
    }
   ],
   "source": [
    "models = []\n",
    "\n",
    "models.append(('LR',pipelineLRFinal))\n",
    "models.append(('Ada_Boost',pipeline_final_ada))\n",
    "models.append(('SVC',pipelineSVCFinal))\n",
    "models.append(('KNN',pipelineKNNFinal))\n",
    "models.append(('NB',pipelineNBFinal))\n",
    "models.append(('GB',pipeline_gradient_final))\n",
    "models.append(('DT',pipelineDTFinal))\n",
    "models.append(('RF',pipelineRFFinal))\n",
    "\n",
    "# evaluate each model in turn\n",
    "results = []\n",
    "names = []\n",
    "scoring = 'accuracy'\n",
    "for name, model in models:\n",
    "\tkfold = model_selection.KFold(n_splits=10, random_state=12345)\n",
    "\tcv_results = model_selection.cross_val_score(model, X_train, y_train, cv=kfold, scoring=scoring)\n",
    "\tresults.append(cv_results)\n",
    "\tnames.append(name)\n",
    "\tmsg = \"%s: %f (%f)\" % (name, cv_results.mean(), cv_results.std())\n",
    "\tprint(msg)\n",
    "# boxplot algorithm comparison\n",
    "fig = plt.figure()\n",
    "fig.suptitle('Algorithm Comparison')\n",
    "ax = fig.add_subplot(111)\n",
    "plt.boxplot(results)\n",
    "ax.set_xticklabels(names)\n",
    "plt.show()"
   ]
  },
  {
   "cell_type": "code",
   "execution_count": null,
   "metadata": {
    "collapsed": true
   },
   "outputs": [],
   "source": []
  }
 ],
 "metadata": {
  "kernelspec": {
   "display_name": "Python 3",
   "language": "python",
   "name": "python3"
  },
  "language_info": {
   "codemirror_mode": {
    "name": "ipython",
    "version": 3
   },
   "file_extension": ".py",
   "mimetype": "text/x-python",
   "name": "python",
   "nbconvert_exporter": "python",
   "pygments_lexer": "ipython3",
   "version": "3.6.3"
  }
 },
 "nbformat": 4,
 "nbformat_minor": 2
}
